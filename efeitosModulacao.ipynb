{
 "cells": [
  {
   "cell_type": "code",
   "execution_count": 1,
   "id": "directed-question",
   "metadata": {},
   "outputs": [],
   "source": [
    "from scipy.io.wavfile import read\n",
    "import numpy\n",
    "import math\n",
    "import wave\n",
    "\n",
    "def lfo(freq, length, rate=44100, phase=0.0):\n",
    "    length = int(length * rate)\n",
    "    t = numpy.arange(length) / float(rate)\n",
    "    omega = float(freq) * 2 * math.pi\n",
    "    phase *= 2 * math.pi  \n",
    "    return numpy.sin(omega * t + phase)\n",
    "\n",
    "def save_wave(data, path, rate=44100):\n",
    "    fp = wave.open(path, 'w')\n",
    "    fp.setnchannels(1)\n",
    "    fp.setframerate(rate)\n",
    "    fp.setsampwidth(2)\n",
    "    fp.setnframes(len(data))\n",
    "    fp.writeframes(data.tostring())\n",
    "    fp.close()"
   ]
  },
  {
   "cell_type": "code",
   "execution_count": 2,
   "id": "round-crystal",
   "metadata": {},
   "outputs": [],
   "source": [
    "# wavFile = read('guitarra/guitarrasolo.wav')\n",
    "wavFile = read('guitarra/guitarra.wav')\n",
    "\n",
    "wavFileArray = numpy.array(wavFile[1],dtype=numpy.int16)"
   ]
  },
  {
   "cell_type": "code",
   "execution_count": 3,
   "id": "ideal-information",
   "metadata": {},
   "outputs": [
    {
     "name": "stderr",
     "output_type": "stream",
     "text": [
      "<ipython-input-1-fe985c680084>:19: DeprecationWarning: tostring() is deprecated. Use tobytes() instead.\n",
      "  fp.writeframes(data.tostring())\n"
     ]
    }
   ],
   "source": [
    "def chorus(data, freq, dry=0.5, wet=0.5, depth=1.0, delay=25.0, rate=44100):\n",
    "    length = float(len(data)) / rate\n",
    "    mil = float(rate) / 1000\n",
    "    delay *= mil\n",
    "    depth *= mil\n",
    "    modwave = (lfo(freq, length) / 2 + 0.5) * depth + delay\n",
    "    out = data.copy()\n",
    "    for i in range(len(data)):\n",
    "        index = int(i - modwave[i])\n",
    "        if index >= 0 and index < len(data):\n",
    "            out[i] = data[i] * dry + data[index] * wet\n",
    "    return out\n",
    "\n",
    "wavFileChorus = chorus(wavFileArray, 2)\n",
    "save_wave(wavFileChorus, 'guitarra+efeito/chorus.wav')"
   ]
  },
  {
   "cell_type": "code",
   "execution_count": 4,
   "id": "ancient-terminology",
   "metadata": {},
   "outputs": [
    {
     "name": "stderr",
     "output_type": "stream",
     "text": [
      "<ipython-input-1-fe985c680084>:19: DeprecationWarning: tostring() is deprecated. Use tobytes() instead.\n",
      "  fp.writeframes(data.tostring())\n"
     ]
    }
   ],
   "source": [
    "def flanger(data, freq, dry=0.5, wet=0.5, depth=5.0, delay=1.0, rate=44100):\n",
    "    length = float(len(data)) / rate\n",
    "    mil = float(rate) / 1000\n",
    "    delay *= mil\n",
    "    depth *= mil\n",
    "    modwave = (lfo(freq, length) / 2 + 0.5) * depth + delay\n",
    "    out = data.copy()\n",
    "    for i in range(len(data)):\n",
    "        index = int(i - modwave[i])\n",
    "        if index >= 0 and index < len(data):\n",
    "            out[i] = out[i] * dry + out[index] * wet\n",
    "    return out\n",
    "\n",
    "wavFileFlanger = flanger(wavFileArray, .5)\n",
    "save_wave(wavFileFlanger, 'guitarra+efeito/flanger.wav')"
   ]
  },
  {
   "cell_type": "code",
   "execution_count": 5,
   "id": "pregnant-anxiety",
   "metadata": {},
   "outputs": [
    {
     "name": "stderr",
     "output_type": "stream",
     "text": [
      "<ipython-input-1-fe985c680084>:19: DeprecationWarning: tostring() is deprecated. Use tobytes() instead.\n",
      "  fp.writeframes(data.tostring())\n"
     ]
    }
   ],
   "source": [
    "def tremolo(data, freq, dry=0.5, wet=0.5, rate=44100):\n",
    "    length = float(len(data)) / rate\n",
    "    modwave = (lfo(freq, length) / 2 + 0.5)\n",
    "    out = data.copy()\n",
    "    for i in range(len(data)):\n",
    "        out[i] = ((data[i] * dry)) + ((data[i]*modwave[i]) * wet)  \n",
    "    return out\n",
    "\n",
    "wavFileTremolo = tremolo(wavFileArray, 10)\n",
    "save_wave(wavFileTremolo, 'guitarra+efeito/tremolo.wav')"
   ]
  }
 ],
 "metadata": {
  "kernelspec": {
   "display_name": "Python 3",
   "language": "python",
   "name": "python3"
  },
  "language_info": {
   "codemirror_mode": {
    "name": "ipython",
    "version": 3
   },
   "file_extension": ".py",
   "mimetype": "text/x-python",
   "name": "python",
   "nbconvert_exporter": "python",
   "pygments_lexer": "ipython3",
   "version": "3.9.2"
  }
 },
 "nbformat": 4,
 "nbformat_minor": 5
}
